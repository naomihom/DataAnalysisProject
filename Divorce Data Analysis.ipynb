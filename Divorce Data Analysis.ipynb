{
 "cells": [
  {
   "cell_type": "markdown",
   "id": "8be4195e-2de2-4780-b8ae-fdf280cd664b",
   "metadata": {},
   "source": [
    "# <font color='grey'>Project 12-</font> \n",
    "# <font color='grey'>Divorce Data Analysis</font> \n",
    "### ***Presented By :       Hadar Elkaslasi , Meitav Rotenberg , Naomi Homburger , Elisheva Oyer***"
   ]
  },
  {
   "cell_type": "markdown",
   "id": "b3a02793-6e8e-418a-a506-0b7c01adb5e6",
   "metadata": {},
   "source": [
    "<img src= \"https://raw.githubusercontent.com/naomihom/picture/main/divorce_picture.png\" width=\"700\"/>"
   ]
  },
  {
   "cell_type": "markdown",
   "id": "84c08731-e6a7-490f-a98b-dd5684a5b300",
   "metadata": {},
   "source": [
    "## <font color='grey'> Data Understanding:</font>\n",
    "#### This dataset contains data about 170 people with their corresponding Divorce Predictors Scale variables (DPS) on the basis of ***\"Gottman couples therapy\"***.\n",
    "#### The records were acquired from face-to-face interviews from people who were already divorced or happily married.\n",
    "#### All responses were collected on a 5 point scale ***(0=Strongly Disagree , 1=Disagree, 2=Neutral, 3=Agree, 4=Strongly Agree)***."
   ]
  },
  {
   "cell_type": "code",
   "execution_count": 1832,
   "id": "96d2ab16-0208-492d-8db8-008c6462b671",
   "metadata": {
    "tags": []
   },
   "outputs": [
    {
     "data": {
      "text/html": [
       "<div>\n",
       "<style scoped>\n",
       "    .dataframe tbody tr th:only-of-type {\n",
       "        vertical-align: middle;\n",
       "    }\n",
       "\n",
       "    .dataframe tbody tr th {\n",
       "        vertical-align: top;\n",
       "    }\n",
       "\n",
       "    .dataframe thead th {\n",
       "        text-align: right;\n",
       "    }\n",
       "</style>\n",
       "<table border=\"1\" class=\"dataframe\">\n",
       "  <thead>\n",
       "    <tr style=\"text-align: right;\">\n",
       "      <th></th>\n",
       "      <th>Q1</th>\n",
       "      <th>Q2</th>\n",
       "      <th>Q3</th>\n",
       "      <th>Q4</th>\n",
       "      <th>Q5</th>\n",
       "      <th>Q6</th>\n",
       "      <th>Q7</th>\n",
       "      <th>Q8</th>\n",
       "      <th>Q9</th>\n",
       "      <th>Q10</th>\n",
       "      <th>...</th>\n",
       "      <th>Q46</th>\n",
       "      <th>Q47</th>\n",
       "      <th>Q48</th>\n",
       "      <th>Q49</th>\n",
       "      <th>Q50</th>\n",
       "      <th>Q51</th>\n",
       "      <th>Q52</th>\n",
       "      <th>Q53</th>\n",
       "      <th>Q54</th>\n",
       "      <th>Divorce</th>\n",
       "    </tr>\n",
       "  </thead>\n",
       "  <tbody>\n",
       "    <tr>\n",
       "      <th>0</th>\n",
       "      <td>2</td>\n",
       "      <td>2</td>\n",
       "      <td>4</td>\n",
       "      <td>1</td>\n",
       "      <td>0</td>\n",
       "      <td>0</td>\n",
       "      <td>0</td>\n",
       "      <td>0</td>\n",
       "      <td>0</td>\n",
       "      <td>0</td>\n",
       "      <td>...</td>\n",
       "      <td>2</td>\n",
       "      <td>1</td>\n",
       "      <td>3</td>\n",
       "      <td>3</td>\n",
       "      <td>3</td>\n",
       "      <td>2</td>\n",
       "      <td>3</td>\n",
       "      <td>2</td>\n",
       "      <td>1</td>\n",
       "      <td>1</td>\n",
       "    </tr>\n",
       "    <tr>\n",
       "      <th>1</th>\n",
       "      <td>4</td>\n",
       "      <td>4</td>\n",
       "      <td>4</td>\n",
       "      <td>4</td>\n",
       "      <td>1</td>\n",
       "      <td>0</td>\n",
       "      <td>0</td>\n",
       "      <td>4</td>\n",
       "      <td>4</td>\n",
       "      <td>4</td>\n",
       "      <td>...</td>\n",
       "      <td>2</td>\n",
       "      <td>2</td>\n",
       "      <td>3</td>\n",
       "      <td>4</td>\n",
       "      <td>4</td>\n",
       "      <td>4</td>\n",
       "      <td>4</td>\n",
       "      <td>2</td>\n",
       "      <td>0</td>\n",
       "      <td>1</td>\n",
       "    </tr>\n",
       "    <tr>\n",
       "      <th>2</th>\n",
       "      <td>2</td>\n",
       "      <td>2</td>\n",
       "      <td>2</td>\n",
       "      <td>2</td>\n",
       "      <td>1</td>\n",
       "      <td>3</td>\n",
       "      <td>2</td>\n",
       "      <td>1</td>\n",
       "      <td>1</td>\n",
       "      <td>2</td>\n",
       "      <td>...</td>\n",
       "      <td>3</td>\n",
       "      <td>2</td>\n",
       "      <td>3</td>\n",
       "      <td>1</td>\n",
       "      <td>1</td>\n",
       "      <td>1</td>\n",
       "      <td>2</td>\n",
       "      <td>2</td>\n",
       "      <td>1</td>\n",
       "      <td>1</td>\n",
       "    </tr>\n",
       "    <tr>\n",
       "      <th>3</th>\n",
       "      <td>3</td>\n",
       "      <td>2</td>\n",
       "      <td>3</td>\n",
       "      <td>2</td>\n",
       "      <td>2</td>\n",
       "      <td>3</td>\n",
       "      <td>3</td>\n",
       "      <td>3</td>\n",
       "      <td>3</td>\n",
       "      <td>3</td>\n",
       "      <td>...</td>\n",
       "      <td>2</td>\n",
       "      <td>2</td>\n",
       "      <td>3</td>\n",
       "      <td>3</td>\n",
       "      <td>3</td>\n",
       "      <td>3</td>\n",
       "      <td>2</td>\n",
       "      <td>2</td>\n",
       "      <td>2</td>\n",
       "      <td>1</td>\n",
       "    </tr>\n",
       "    <tr>\n",
       "      <th>4</th>\n",
       "      <td>2</td>\n",
       "      <td>2</td>\n",
       "      <td>1</td>\n",
       "      <td>1</td>\n",
       "      <td>1</td>\n",
       "      <td>1</td>\n",
       "      <td>0</td>\n",
       "      <td>0</td>\n",
       "      <td>0</td>\n",
       "      <td>0</td>\n",
       "      <td>...</td>\n",
       "      <td>2</td>\n",
       "      <td>1</td>\n",
       "      <td>2</td>\n",
       "      <td>3</td>\n",
       "      <td>2</td>\n",
       "      <td>2</td>\n",
       "      <td>2</td>\n",
       "      <td>1</td>\n",
       "      <td>1</td>\n",
       "      <td>1</td>\n",
       "    </tr>\n",
       "  </tbody>\n",
       "</table>\n",
       "<p>5 rows × 55 columns</p>\n",
       "</div>"
      ],
      "text/plain": [
       "   Q1  Q2  Q3  Q4  Q5  Q6  Q7  Q8  Q9  Q10  ...  Q46  Q47  Q48  Q49  Q50  Q51  \\\n",
       "0   2   2   4   1   0   0   0   0   0    0  ...    2    1    3    3    3    2   \n",
       "1   4   4   4   4   1   0   0   4   4    4  ...    2    2    3    4    4    4   \n",
       "2   2   2   2   2   1   3   2   1   1    2  ...    3    2    3    1    1    1   \n",
       "3   3   2   3   2   2   3   3   3   3    3  ...    2    2    3    3    3    3   \n",
       "4   2   2   1   1   1   1   0   0   0    0  ...    2    1    2    3    2    2   \n",
       "\n",
       "   Q52  Q53  Q54  Divorce  \n",
       "0    3    2    1        1  \n",
       "1    4    2    0        1  \n",
       "2    2    2    1        1  \n",
       "3    2    2    2        1  \n",
       "4    2    1    1        1  \n",
       "\n",
       "[5 rows x 55 columns]"
      ]
     },
     "execution_count": 1832,
     "metadata": {},
     "output_type": "execute_result"
    }
   ],
   "source": [
    "import numpy as np\n",
    "import pandas as pd\n",
    "import seaborn as sns\n",
    "import matplotlib.pyplot as plt\n",
    "import sklearn as sk\n",
    "from sklearn import tree\n",
    "from sklearn.tree import DecisionTreeClassifier\n",
    "from sklearn.metrics import confusion_matrix, ConfusionMatrixDisplay\n",
    "\n",
    "url = 'https://raw.githubusercontent.com/ElishOyer/DataAnalysisProject/main/divorce_data1.csv'\n",
    "data = pd.read_csv(url)\n",
    "data.head()"
   ]
  },
  {
   "cell_type": "markdown",
   "id": "dcc20200-2c0c-4445-9b3d-cf16c0d51e1c",
   "metadata": {},
   "source": [
    "## <font color='grey'>Data Preparation:</font>\n",
    "#### The questions from the interviews were given by numbers.\n",
    "#### In order to make it easier to work with we transferred column headings of the data to short versions of the questions :"
   ]
  },
  {
   "cell_type": "code",
   "execution_count": 1810,
   "id": "802aebf5-8459-464b-8a32-47dd623caed4",
   "metadata": {
    "jupyter": {
     "source_hidden": true
    },
    "tags": []
   },
   "outputs": [
    {
     "data": {
      "text/html": [
       "<div>\n",
       "<style scoped>\n",
       "    .dataframe tbody tr th:only-of-type {\n",
       "        vertical-align: middle;\n",
       "    }\n",
       "\n",
       "    .dataframe tbody tr th {\n",
       "        vertical-align: top;\n",
       "    }\n",
       "\n",
       "    .dataframe thead th {\n",
       "        text-align: right;\n",
       "    }\n",
       "</style>\n",
       "<table border=\"1\" class=\"dataframe\">\n",
       "  <thead>\n",
       "    <tr style=\"text-align: right;\">\n",
       "      <th></th>\n",
       "      <th>Sorry_end</th>\n",
       "      <th>Ignore_diff</th>\n",
       "      <th>begin_correct</th>\n",
       "      <th>Contact</th>\n",
       "      <th>Special_time</th>\n",
       "      <th>No_home_time</th>\n",
       "      <th>2_strangers</th>\n",
       "      <th>enjoy_holiday</th>\n",
       "      <th>enjoy_travel</th>\n",
       "      <th>common_goals</th>\n",
       "      <th>...</th>\n",
       "      <th>silence_for_harm</th>\n",
       "      <th>silence_fear_anger</th>\n",
       "      <th>I_am_right</th>\n",
       "      <th>accusations</th>\n",
       "      <th>I_am_not_guilty</th>\n",
       "      <th>I_am_not_wrong</th>\n",
       "      <th>no_hesitancy_inadequate</th>\n",
       "      <th>you_are_inadequate</th>\n",
       "      <th>incompetence</th>\n",
       "      <th>Divorce_Y_N</th>\n",
       "    </tr>\n",
       "  </thead>\n",
       "  <tbody>\n",
       "    <tr>\n",
       "      <th>0</th>\n",
       "      <td>2</td>\n",
       "      <td>2</td>\n",
       "      <td>4</td>\n",
       "      <td>1</td>\n",
       "      <td>0</td>\n",
       "      <td>0</td>\n",
       "      <td>0</td>\n",
       "      <td>0</td>\n",
       "      <td>0</td>\n",
       "      <td>0</td>\n",
       "      <td>...</td>\n",
       "      <td>2</td>\n",
       "      <td>1</td>\n",
       "      <td>3</td>\n",
       "      <td>3</td>\n",
       "      <td>3</td>\n",
       "      <td>2</td>\n",
       "      <td>3</td>\n",
       "      <td>2</td>\n",
       "      <td>1</td>\n",
       "      <td>1</td>\n",
       "    </tr>\n",
       "    <tr>\n",
       "      <th>1</th>\n",
       "      <td>4</td>\n",
       "      <td>4</td>\n",
       "      <td>4</td>\n",
       "      <td>4</td>\n",
       "      <td>1</td>\n",
       "      <td>0</td>\n",
       "      <td>0</td>\n",
       "      <td>4</td>\n",
       "      <td>4</td>\n",
       "      <td>4</td>\n",
       "      <td>...</td>\n",
       "      <td>2</td>\n",
       "      <td>2</td>\n",
       "      <td>3</td>\n",
       "      <td>4</td>\n",
       "      <td>4</td>\n",
       "      <td>4</td>\n",
       "      <td>4</td>\n",
       "      <td>2</td>\n",
       "      <td>0</td>\n",
       "      <td>1</td>\n",
       "    </tr>\n",
       "    <tr>\n",
       "      <th>2</th>\n",
       "      <td>2</td>\n",
       "      <td>2</td>\n",
       "      <td>2</td>\n",
       "      <td>2</td>\n",
       "      <td>1</td>\n",
       "      <td>3</td>\n",
       "      <td>2</td>\n",
       "      <td>1</td>\n",
       "      <td>1</td>\n",
       "      <td>2</td>\n",
       "      <td>...</td>\n",
       "      <td>3</td>\n",
       "      <td>2</td>\n",
       "      <td>3</td>\n",
       "      <td>1</td>\n",
       "      <td>1</td>\n",
       "      <td>1</td>\n",
       "      <td>2</td>\n",
       "      <td>2</td>\n",
       "      <td>1</td>\n",
       "      <td>1</td>\n",
       "    </tr>\n",
       "    <tr>\n",
       "      <th>3</th>\n",
       "      <td>3</td>\n",
       "      <td>2</td>\n",
       "      <td>3</td>\n",
       "      <td>2</td>\n",
       "      <td>2</td>\n",
       "      <td>3</td>\n",
       "      <td>3</td>\n",
       "      <td>3</td>\n",
       "      <td>3</td>\n",
       "      <td>3</td>\n",
       "      <td>...</td>\n",
       "      <td>2</td>\n",
       "      <td>2</td>\n",
       "      <td>3</td>\n",
       "      <td>3</td>\n",
       "      <td>3</td>\n",
       "      <td>3</td>\n",
       "      <td>2</td>\n",
       "      <td>2</td>\n",
       "      <td>2</td>\n",
       "      <td>1</td>\n",
       "    </tr>\n",
       "    <tr>\n",
       "      <th>4</th>\n",
       "      <td>2</td>\n",
       "      <td>2</td>\n",
       "      <td>1</td>\n",
       "      <td>1</td>\n",
       "      <td>1</td>\n",
       "      <td>1</td>\n",
       "      <td>0</td>\n",
       "      <td>0</td>\n",
       "      <td>0</td>\n",
       "      <td>0</td>\n",
       "      <td>...</td>\n",
       "      <td>2</td>\n",
       "      <td>1</td>\n",
       "      <td>2</td>\n",
       "      <td>3</td>\n",
       "      <td>2</td>\n",
       "      <td>2</td>\n",
       "      <td>2</td>\n",
       "      <td>1</td>\n",
       "      <td>1</td>\n",
       "      <td>1</td>\n",
       "    </tr>\n",
       "  </tbody>\n",
       "</table>\n",
       "<p>5 rows × 55 columns</p>\n",
       "</div>"
      ],
      "text/plain": [
       "   Sorry_end  Ignore_diff  begin_correct  Contact  Special_time  No_home_time  \\\n",
       "0          2            2              4        1             0             0   \n",
       "1          4            4              4        4             1             0   \n",
       "2          2            2              2        2             1             3   \n",
       "3          3            2              3        2             2             3   \n",
       "4          2            2              1        1             1             1   \n",
       "\n",
       "   2_strangers  enjoy_holiday  enjoy_travel  common_goals  ...  \\\n",
       "0            0              0             0             0  ...   \n",
       "1            0              4             4             4  ...   \n",
       "2            2              1             1             2  ...   \n",
       "3            3              3             3             3  ...   \n",
       "4            0              0             0             0  ...   \n",
       "\n",
       "   silence_for_harm  silence_fear_anger  I_am_right  accusations  \\\n",
       "0                 2                   1           3            3   \n",
       "1                 2                   2           3            4   \n",
       "2                 3                   2           3            1   \n",
       "3                 2                   2           3            3   \n",
       "4                 2                   1           2            3   \n",
       "\n",
       "   I_am_not_guilty  I_am_not_wrong  no_hesitancy_inadequate  \\\n",
       "0                3               2                        3   \n",
       "1                4               4                        4   \n",
       "2                1               1                        2   \n",
       "3                3               3                        2   \n",
       "4                2               2                        2   \n",
       "\n",
       "   you_are_inadequate  incompetence  Divorce_Y_N  \n",
       "0                   2             1            1  \n",
       "1                   2             0            1  \n",
       "2                   2             1            1  \n",
       "3                   2             2            1  \n",
       "4                   1             1            1  \n",
       "\n",
       "[5 rows x 55 columns]"
      ]
     },
     "execution_count": 1810,
     "metadata": {},
     "output_type": "execute_result"
    }
   ],
   "source": [
    "data.columns = ['Sorry_end', 'Ignore_diff', 'begin_correct', 'Contact', 'Special_time', 'No_home_time', '2_strangers', 'enjoy_holiday', 'enjoy_travel', 'common_goals', 'harmony', 'freeom_value','entertain','people_goals','dreams','Love','happy','marriage','roles','trust','likes','care_sick','fav_food','stresses','inner_world','anxieties','current_stress','hopes_wishes','know_well','friends_social','Aggro_argue','Always_never','negative_personality','offensive_expressions','insult','humiliate','not_calm','hate_subjects','sudden_discussion','idk_whats_going_on','calm_breaks','argue_then_leave','silent_for_calm','good_to_leave_home','silence_instead_of_discussion','silence_for_harm','silence_fear_anger','I_am_right','accusations','I_am_not_guilty','I_am_not_wrong','no_hesitancy_inadequate','you_are_inadequate','incompetence','Divorce_Y_N']\n",
    "data.head()"
   ]
  },
  {
   "cell_type": "markdown",
   "id": "f792a01a-e66c-4717-88ee-8fc9ca634047",
   "metadata": {},
   "source": [
    "#### - We checked for missing values in the data :"
   ]
  },
  {
   "cell_type": "code",
   "execution_count": 1811,
   "id": "c4695445-1b0a-4165-b6bc-6eddfd364f8d",
   "metadata": {
    "tags": []
   },
   "outputs": [
    {
     "data": {
      "text/plain": [
       "Sorry_end                        0\n",
       "Ignore_diff                      0\n",
       "begin_correct                    0\n",
       "Contact                          0\n",
       "Special_time                     0\n",
       "No_home_time                     0\n",
       "2_strangers                      0\n",
       "enjoy_holiday                    0\n",
       "enjoy_travel                     0\n",
       "common_goals                     0\n",
       "harmony                          0\n",
       "freeom_value                     0\n",
       "entertain                        0\n",
       "people_goals                     0\n",
       "dreams                           0\n",
       "Love                             0\n",
       "happy                            0\n",
       "marriage                         0\n",
       "roles                            0\n",
       "trust                            0\n",
       "likes                            0\n",
       "care_sick                        0\n",
       "fav_food                         0\n",
       "stresses                         0\n",
       "inner_world                      0\n",
       "anxieties                        0\n",
       "current_stress                   0\n",
       "hopes_wishes                     0\n",
       "know_well                        0\n",
       "friends_social                   0\n",
       "Aggro_argue                      0\n",
       "Always_never                     0\n",
       "negative_personality             0\n",
       "offensive_expressions            0\n",
       "insult                           0\n",
       "humiliate                        0\n",
       "not_calm                         0\n",
       "hate_subjects                    0\n",
       "sudden_discussion                0\n",
       "idk_whats_going_on               0\n",
       "calm_breaks                      0\n",
       "argue_then_leave                 0\n",
       "silent_for_calm                  0\n",
       "good_to_leave_home               0\n",
       "silence_instead_of_discussion    0\n",
       "silence_for_harm                 0\n",
       "silence_fear_anger               0\n",
       "I_am_right                       0\n",
       "accusations                      0\n",
       "I_am_not_guilty                  0\n",
       "I_am_not_wrong                   0\n",
       "no_hesitancy_inadequate          0\n",
       "you_are_inadequate               0\n",
       "incompetence                     0\n",
       "Divorce_Y_N                      0\n",
       "dtype: int64"
      ]
     },
     "execution_count": 1811,
     "metadata": {},
     "output_type": "execute_result"
    }
   ],
   "source": [
    "data.isna().sum()"
   ]
  },
  {
   "cell_type": "markdown",
   "id": "97696426",
   "metadata": {},
   "source": [
    "##### We found no missing values."
   ]
  },
  {
   "cell_type": "markdown",
   "id": "7982b375-6c8b-42c9-ad3e-d536338ee199",
   "metadata": {},
   "source": [
    "#### - We had to create new DataFrames to separate our data to several categories in order to ease our research:\n",
    "#### We separated the data to married people and divorced people and created a Dataframe with counted values for each observation."
   ]
  },
  {
   "cell_type": "code",
   "execution_count": 1812,
   "id": "e701bc90-f859-4a20-bb61-2b73dbba2586",
   "metadata": {
    "jupyter": {
     "source_hidden": true
    },
    "tags": []
   },
   "outputs": [],
   "source": [
    "#Separating data to married people and divorced people-\n",
    "married = data[data['Divorce_Y_N']==0]\n",
    "divorced = data[data['Divorce_Y_N']==1]\n",
    "\n",
    "#DataFrame for Observation 1:\n",
    "##Using value_counts to sum the answers-\n",
    "columns = data.columns\n",
    "negative_personality_married = married[columns[32]].value_counts(sort = False)\n",
    "negative_personality_divorced = divorced[columns[32]].value_counts(sort = False)\n",
    "incompetence_married = married[columns[53]].value_counts(sort = False)\n",
    "incompetence_divorced = divorced[columns[53]].value_counts(sort = False)\n",
    "insult_married = married[columns[34]].value_counts(sort = False)\n",
    "insult_divorced = divorced[columns[34]].value_counts(sort = False)\n",
    "humiliate_married = married[columns[35]].value_counts(sort = False)\n",
    "humiliate_divorced = divorced[columns[35]].value_counts(sort = False)\n",
    "Aggro_argue_married = married[columns[30]].value_counts(sort = False)\n",
    "Aggro_argue_divorced = divorced[columns[30]].value_counts(sort = False)\n",
    "not_calm_married = married[columns[36]].value_counts(sort = False)\n",
    "not_calm_divorced = divorced[columns[36]].value_counts(sort = False)\n",
    "argue_then_leave_married = married[columns[41]].value_counts(sort = False)\n",
    "argue_then_leave_divorced = divorced[columns[41]].value_counts(sort = False)\n",
    "silence_instead_of_discussion_married = married[columns[44]].value_counts(sort = False)\n",
    "silence_instead_of_discussion_divorced = divorced[columns[44]].value_counts(sort = False)\n",
    "\n",
    "df_negative_personality_married = pd.DataFrame(negative_personality_married)\n",
    "df_negative_personality_divorced = pd.DataFrame(negative_personality_divorced)\n",
    "df_incompetence_married = pd.DataFrame(incompetence_married)\n",
    "df_incompetence_divorced = pd.DataFrame(incompetence_divorced)\n",
    "df_insult_married = pd.DataFrame(insult_married)\n",
    "df_insult_divorced = pd.DataFrame(insult_divorced)\n",
    "df_humiliate_married = pd.DataFrame(humiliate_married)\n",
    "df_humiliate_divorced = pd.DataFrame(humiliate_divorced)\n",
    "df_Aggro_argue_married = pd.DataFrame(Aggro_argue_married)\n",
    "df_Aggro_argue_divorced = pd.DataFrame(Aggro_argue_divorced)\n",
    "df_not_calm_married = pd.DataFrame(not_calm_married)\n",
    "df_not_calm_divorced = pd.DataFrame(not_calm_divorced)\n",
    "df_argue_then_leave_married = pd.DataFrame(argue_then_leave_married)\n",
    "df_argue_then_leave_divorced = pd.DataFrame(argue_then_leave_divorced)\n",
    "df_silence_instead_of_discussion_married = pd.DataFrame(silence_instead_of_discussion_married)\n",
    "df_silence_instead_of_discussion_divorced = pd.DataFrame(silence_instead_of_discussion_divorced)\n",
    "\n",
    "##Filing the missing data with 0 = 0 people gave that answer-\n",
    "negative_personality = pd.concat([df_negative_personality_married,df_negative_personality_divorced],axis=1,sort=True).fillna(0)\n",
    "negative_personality.columns=['negative_personality_married','negative_personality_divorced']\n",
    "insult = pd.concat([df_insult_married,df_insult_divorced],axis=1,sort=True).fillna(0)\n",
    "insult.columns=['insult_married','insult_divorced']\n",
    "Aggro_argue = pd.concat([df_Aggro_argue_married,df_Aggro_argue_divorced],axis=1,sort=True).fillna(0)\n",
    "Aggro_argue.columns=['Aggro_argue_married','Aggro_argue_divorced']\n",
    "argue_then_leave = pd.concat([df_argue_then_leave_married,df_argue_then_leave_divorced],axis=1,sort=True).fillna(0)\n",
    "argue_then_leave.columns=['argue_then_leave_married','argue_then_leave_divorced']\n",
    "\n",
    "#DataFrame for Observation 2:\n",
    "incompetence=pd.concat([df_incompetence_married,df_incompetence_divorced],axis=1,sort=True).fillna(0)\n",
    "incompetence.columns=['incompetence_married','incompetence_divorced'] \n",
    "data_incompetence_m_scatter= [(46,0),(24,1),(14,2),(1,3),(1,4)]\n",
    "df_incompetence_m_scatter=pd.DataFrame(data= data_incompetence_m_scatter, columns=['people','Answer'])\n",
    "data_incompetence_d_scatter= [(5,0),(28,1),(36,2),(12,3),(3,4)]\n",
    "df_incompetence_d_scatter=pd.DataFrame(data= data_incompetence_d_scatter, columns=['people','Answer'])\n",
    "\n",
    "#DataFrame for Observation 3:\n",
    "new_data=data.iloc[:,[5,13,14,17,19,27,53]]\n",
    "No_home_time_married = married[columns[5]].value_counts(sort = False)\n",
    "No_home_time_divorced = divorced[columns[5]].value_counts(sort = False)\n",
    "people_goals_married = married[columns[13]].value_counts(sort = False)\n",
    "people_goals_divorced = divorced[columns[13]].value_counts(sort = False)\n",
    "dreams_married = married[columns[14]].value_counts(sort = False)\n",
    "dreams_divorced = divorced[columns[14]].value_counts(sort = False)\n",
    "marriage_married = married[columns[17]].value_counts(sort = False)\n",
    "marriage_divorced = divorced[columns[17]].value_counts(sort = False)\n",
    "trust_married = married[columns[19]].value_counts(sort = False)\n",
    "trust_divorced = divorced[columns[19]].value_counts(sort = False)\n",
    "Special_time_married = married[columns[4]].value_counts(sort = False)\n",
    "Special_time_divorced = divorced[columns[4]].value_counts(sort = False)\n",
    "incompetence_married = married[columns[53]].value_counts(sort = False)\n",
    "incompetence_divorced = divorced[columns[53]].value_counts(sort = False)\n",
    "\n",
    "df_No_home_time_married = pd.DataFrame(No_home_time_married)\n",
    "df_No_home_time_divorced = pd.DataFrame(No_home_time_divorced)\n",
    "df_people_goals_married = pd.DataFrame(people_goals_married)\n",
    "df_people_goals_divorced = pd.DataFrame(people_goals_divorced)\n",
    "df_dreams_married = pd.DataFrame(dreams_married)\n",
    "df_dreams_divorced = pd.DataFrame(dreams_divorced)\n",
    "df_marriage_married = pd.DataFrame(marriage_married)\n",
    "df_marriage_divorced = pd.DataFrame(marriage_divorced)\n",
    "df_trust_married = pd.DataFrame(trust_married)\n",
    "df_trust_divorced = pd.DataFrame(trust_divorced)\n",
    "df_Special_time_married = pd.DataFrame(Special_time_married)\n",
    "df_Special_time_divorced = pd.DataFrame(Special_time_divorced)\n",
    "df_incompetence_married = pd.DataFrame(incompetence_married)\n",
    "df_incompetence_divorced = pd.DataFrame(incompetence_divorced)\n",
    "\n",
    "No_home_time=pd.concat([df_No_home_time_married,df_No_home_time_divorced],axis=1,sort=True).fillna(0)\n",
    "No_home_time.columns=['No_home_time_married','No_home_time_divorced']\n",
    "people_goals=pd.concat([df_people_goals_married,df_people_goals_divorced],axis=1,sort=True).fillna(0)\n",
    "people_goals.columns=['people_goals_married','people_goals_divorced']\n",
    "dreams = pd.concat([df_dreams_married,df_dreams_divorced],axis=1,sort=True).fillna(0)\n",
    "dreams.columns=['dreams_married','dreams_divorced']\n",
    "marriage=pd.concat([df_marriage_married,df_marriage_divorced],axis=1,sort=True).fillna(0)\n",
    "marriage.columns=['marriage_married','marriage_divorced']\n",
    "trust=pd.concat([df_trust_married,df_trust_divorced],axis=1,sort=True).fillna(0)\n",
    "trust.columns=['trust_married','trust_divorced']\n",
    "Special_time= pd.concat([df_Special_time_married,df_Special_time_divorced],axis=1,sort=True).fillna(0)\n",
    "Special_time.columns=['Special_time_married','Special_time_divorced']\n",
    "incompetence=pd.concat([df_incompetence_married,df_incompetence_divorced],axis=1,sort=True).fillna(0)\n",
    "incompetence.columns=['incompetence_married','incompetence_divorced']\n",
    "\n"
   ]
  },
  {
   "cell_type": "markdown",
   "id": "bf21ee44-ae58-477a-afa0-8c94e09698e6",
   "metadata": {},
   "source": [
    "## <font color='grey'>Basic information about the Data:</font>"
   ]
  },
  {
   "cell_type": "code",
   "execution_count": 1831,
   "id": "c0ba15f7-e1f3-4751-abf0-cebf521bb094",
   "metadata": {
    "tags": []
   },
   "outputs": [
    {
     "data": {
      "image/png": "[encoded data removed]",
      "text/plain": [
       "<Figure size 1080x936 with 1 Axes>"
      ]
     },
     "metadata": {},
     "output_type": "display_data"
    }
   ],
   "source": [
    "plt.figure(1, figsize=(15,13))\n",
    "plt.subplot(1,2,1)\n",
    "plt.title(\"Married VS. Divorced in our Data\" ,size=(25))\n",
    "data_copy=data.copy()\n",
    "data_copy['Divorce_Y_N'] = data_copy['Divorce_Y_N'].replace(1,'Divorced')\n",
    "data_copy['Divorce_Y_N'] = data_copy['Divorce_Y_N'].replace(0,'Married')\n",
    "data_copy['Divorce_Y_N'].value_counts().plot.pie(autopct='%1.1f%%',colors = ['lightpink','grey'], textprops={'fontsize': 14})\n",
    "plt.ylabel(\"\");"
   ]
  },
  {
   "cell_type": "markdown",
   "id": "d614231c",
   "metadata": {},
   "source": [
    "##### <font color='pink'>86 married people</font>\n",
    "##### <font color='grey'>84 divorced people</font>"
   ]
  },
  {
   "cell_type": "markdown",
   "id": "a4405f29-6cb3-42e0-bbc0-72cfad77a242",
   "metadata": {},
   "source": [
    "## <font color='grey'>Digging the Data:</font>"
   ]
  },
  {
   "cell_type": "markdown",
   "id": "b8fe3c38-94d5-4d5f-b48f-0a31e1b62f9c",
   "metadata": {
    "tags": []
   },
   "source": [
    "#### From a research conducted by Dr. Gottman, there are four main causes of divorce :\n",
    "##### 1. Criticism = ביקורת\n",
    "##### 2. Contempt = בוז, זלזול\n",
    "##### 3. Defensiveness = מנגנוני הגנה\n",
    "##### 4. Stonewalling = השהיית אימותים"
   ]
  },
  {
   "cell_type": "markdown",
   "id": "c5560faa-7663-42c0-9e92-b6f30274fd45",
   "metadata": {},
   "source": [
    "#### We decided to check if our data can prove this statement:"
   ]
  },
  {
   "cell_type": "markdown",
   "id": "82535626-15ea-4aff-a040-c2c2211c4ed1",
   "metadata": {},
   "source": [
    "#### We chose one question for each cause of divorce according to Gottman and checked if they proved his opinion-"
   ]
  },
  {
   "cell_type": "code",
   "execution_count": 1834,
   "id": "68ac9a2d-cb51-490c-b097-2d6ed7eecf5b",
   "metadata": {
    "tags": []
   },
   "outputs": [
    {
     "data": {
      "image/png": "[encoded data removed]",
      "text/plain": [
       "<Figure size 936x720 with 4 Axes>"
      ]
     },
     "metadata": {
      "needs_background": "light"
     },
     "output_type": "display_data"
    }
   ],
   "source": [
    "fig, axes= plt.subplots(2,2, figsize=(13,10))\n",
    "\n",
    "plt.sca(axes[0, 0])\n",
    "negative_personality.plot(kind='bar', title=\"Criticism: Negative statements about personality\",figsize=(13,10),ax=axes[0,0],color={\"negative_personality_married\": \"pink\", \"negative_personality_divorced\": \"grey\"}).legend([\"Married\", \"Divorced\"]);\n",
    "plt.xticks(rotation=0, horizontalalignment=\"left\",fontsize=10);\n",
    "\n",
    "plt.sca(axes[0, 1])\n",
    "insult.plot(kind='bar', title=\"Contempt: I can insult my spouse during our discussions\",figsize=(13,10),ax=axes[0,1], color={\"insult_married\": \"pink\", \"insult_divorced\": \"grey\"}).legend([\"Married\", \"Divorced\"]);\n",
    "plt.xticks(rotation=0, horizontalalignment=\"left\",fontsize=10);\n",
    "\n",
    "plt.sca(axes[1, 0])\n",
    "Aggro_argue.plot(kind='bar', title=\"Defensiveness: Aggressive when I argue with my spouse\",figsize=(13,10),ax=axes[1,0],color={\"Aggro_argue_married\": \"pink\", \"Aggro_argue_divorced\": \"grey\"}).legend([\"Married\", \"Divorced\"]);\n",
    "plt.xticks(rotation=0, horizontalalignment=\"left\",fontsize=10);\n",
    "\n",
    "plt.sca(axes[1, 1])\n",
    "argue_then_leave.plot(kind='bar', title=\"Stonewalling: When argue- I leave and don't say a word\",figsize=(13,10),ax=axes[1,1], color={\"argue_then_leave_married\": \"pink\", \"argue_then_leave_divorced\": \"grey\"}).legend([\"Married\", \"Divorced\"]);\n",
    "plt.xticks(rotation=0, horizontalalignment=\"left\",fontsize=10);\n"
   ]
  },
  {
   "cell_type": "markdown",
   "id": "5518cd7a-4c1f-4830-b618-482cef96a6e8",
   "metadata": {},
   "source": [
    "###  <ins>Observation 1:</ins> \n",
    "#### ***The questions we chose to investigate indeed proved his opinion, therefore Gottman's causes of divorce are correct in our Data.***"
   ]
  },
  {
   "cell_type": "markdown",
   "id": "ddfb7493-bb5e-4408-845b-831b99053457",
   "metadata": {},
   "source": [
    "#### During the continuation of our research, we discovered results that caught our attention - the results for the \"I am not afraid to tell about my spouse about her/his incompetence\" question were different from expected."
   ]
  },
  {
   "cell_type": "code",
   "execution_count": 1836,
   "id": "a150de3c-7cee-4eb8-8f65-9a90f5a6673d",
   "metadata": {},
   "outputs": [
    {
     "data": {
      "image/png": "[encoded data removed]",
      "text/plain": [
       "<Figure size 720x720 with 1 Axes>"
      ]
     },
     "metadata": {
      "needs_background": "light"
     },
     "output_type": "display_data"
    }
   ],
   "source": [
    "incompetence.plot(kind='bar', title=\"I am not afraid to tell about my spouse about her/his incompetence\",figsize=(10,10), color={\"incompetence_married\": \"pink\", \"incompetence_divorced\": \"grey\"}).legend([\"Married\", \"Divorced\"]);\n",
    "plt.xticks(rotation=0, horizontalalignment=\"left\",fontsize=10);"
   ]
  },
  {
   "cell_type": "markdown",
   "id": "eec20e05-6b21-4bcb-8a05-4a8ec22a28cf",
   "metadata": {},
   "source": [
    "###  <ins>Observation 2:</ins> \n",
    "#### It can be seen that the divorcees were afraid to give their opinion, while the married people were not, when we expected to see the opposite.\n",
    "#### According to Gottman, divorcees are not afraid to criticize and even talk to their spouse with contempt.\n",
    "#### Therefore, ***Gottman's findings do not <ins>fully</ins> prove themselves in our data.***"
   ]
  },
  {
   "cell_type": "markdown",
   "id": "c6feb612-9a86-45ae-aa6a-14a7ab7b7378",
   "metadata": {},
   "source": [
    "#### These findings made us want to re-examine the data in order to find additional reasons for divorce, beyond Gottman's results:\n",
    "#### We chose to display the answers to additional questions that showed different results than expected-"
   ]
  },
  {
   "cell_type": "code",
   "execution_count": 1820,
   "id": "fb7331a7-1bb3-4c26-a28d-3745e79b0ef8",
   "metadata": {},
   "outputs": [
    {
     "data": {
      "image/png": "[encoded data removed]",
      "text/plain": [
       "<Figure size 936x720 with 6 Axes>"
      ]
     },
     "metadata": {
      "needs_background": "light"
     },
     "output_type": "display_data"
    }
   ],
   "source": [
    "fig, axes= plt.subplots(2,3, figsize=(13,10))\n",
    "\n",
    "plt.sca(axes[0, 0])\n",
    "No_home_time.plot(kind='bar', title= \"We don't have time at home together\",ax=axes[0,0], color={\"No_home_time_married\": \"pink\", \"No_home_time_divorced\": \"grey\"}).legend([\"Married\", \"Divorced\"]);\n",
    "plt.xticks(rotation=0, horizontalalignment=\"left\",fontsize=10);\n",
    "\n",
    "plt.sca(axes[0, 1])\n",
    "people_goals.plot(kind='bar', title=\"Most of our goals are the same\",ax=axes[0,1], color={\"people_goals_married\": \"pink\", \"people_goals_divorced\": \"grey\"}).legend([\"Married\", \"Divorced\"]);\n",
    "plt.xticks(rotation=0, horizontalalignment=\"left\",fontsize=10);\n",
    "\n",
    "plt.sca(axes[0, 2])\n",
    "dreams.plot(kind='bar', title=\"Our dreams are similar\",ax=axes[0,2], color={\"dreams_married\": \"pink\", \"dreams_divorced\": \"grey\"}).legend([\"Married\", \"Divorced\"]);\n",
    "plt.xticks(rotation=0, horizontalalignment=\"left\",fontsize=10);\n",
    "\n",
    "plt.sca(axes[1, 0])\n",
    "marriage.plot(kind='bar', title=\"Similar ideas about how marriage should be\",ax=axes[1,0], color={\"marriage_married\": \"pink\", \"marriage_divorced\": \"grey\"}).legend([\"Married\", \"Divorced\"]);\n",
    "plt.xticks(rotation=0, horizontalalignment=\"left\",fontsize=10);\n",
    "\n",
    "plt.sca(axes[1, 1])\n",
    "trust.plot(kind='bar', title=\"Similar values in trust\",ax=axes[1,1], color={\"trust_married\": \"pink\", \"trust_divorced\": \"grey\"}).legend([\"Married\", \"Divorced\"]);\n",
    "plt.xticks(rotation=0, horizontalalignment=\"left\",fontsize=10);\n",
    "\n",
    "plt.sca(axes[1, 2])\n",
    "Special_time.plot(kind='bar', title=\"Our time together is special for us\",ax=axes[1,2], color={\"Special_time_married\": \"pink\", \"Special_time_divorced\": \"grey\"}).legend([\"Married\", \"Divorced\"]);\n",
    "plt.xticks(rotation=0, horizontalalignment=\"left\",fontsize=10);\n"
   ]
  },
  {
   "cell_type": "markdown",
   "id": "9dc9d189-095b-430a-a7b5-9169ddd4dd2c",
   "metadata": {},
   "source": [
    "###  <ins>Observation 3:</ins> \n",
    "#### From our findings, along with Gottman's, we found renewed conclusions regarding the reasons for divorce-\n",
    "#### ***1. Different outlook on life = השקפת חיים שונה***\n",
    "#### ***2. Unhealthy discourse = שיח לא בריא***\n",
    "#### ***3. Commitment to the relationship = מחויבות לקשר***"
   ]
  },
  {
   "cell_type": "markdown",
   "id": "f217680d-15c3-4d3f-ae97-c69ac136adce",
   "metadata": {},
   "source": [
    "#### In order to test if our findings can prove themselves, we published a questionnaire for married and divorced people, including questions that may prove our renewed reasons for divorce."
   ]
  },
  {
   "cell_type": "markdown",
   "id": "85b568df-1bcd-41e6-9cdc-b13ddde3b713",
   "metadata": {
    "jp-MarkdownHeadingCollapsed": true,
    "jupyter": {
     "source_hidden": true
    },
    "tags": []
   },
   "source": [
    "####  <ins>The questionnaire:</ins> (published in hebrew)\n",
    "1. ?האם אני מרגיש שהשקעתי יותר מבן/בת זוגי על מנת לתקן את הקשר\n",
    "2. ?האם במהלך ויכוח העדפתי לשתוק על מנת לסיים אותו \n",
    "3. ?האם פיניתי מספיק זמן בשבוע לזמן זוגי\n",
    "4. ?האם ידעתי לוותר בשביל בן / בת זוגי\n",
    "5. ?האם השיח נהיה תוקפני\n",
    "6. ?האם הרגשתי שהשיח בינינו לא היה מכבד\n",
    "7. ?האם העדפנו לפתור סכסוכים בדיבור ולא להתעלם\n",
    "8. ?לפעמים במהלך שיחה הייתי שותק כדי לא להגיע למצב של אי שליטה בכעס שלי\n",
    "9. ?האם לבן/בת הזוג שלי ולי היו ערכים דומים באמון\n",
    "10. ?האם החלומות של בן/בת זוגי ושלי היו דומים\n",
    "11. ?האם רוב המטרות שלנו היו משותפות\n",
    "12. ?האם הסכמנו על איך זוגיות צריכה להראות\n",
    "\n",
    "Answered by Yes\\No"
   ]
  },
  {
   "cell_type": "markdown",
   "id": "2ac8ef2f-fa48-4f0f-89d0-9236e93216ae",
   "metadata": {},
   "source": [
    "#### We created a new DataFrame from it and made a prediction, using the DecisionTreeClassifier:"
   ]
  },
  {
   "cell_type": "code",
   "execution_count": 1837,
   "id": "b9b7343d-436f-49ac-b3b7-636e69746566",
   "metadata": {},
   "outputs": [
    {
     "data": {
      "text/html": [
       "<div>\n",
       "<style scoped>\n",
       "    .dataframe tbody tr th:only-of-type {\n",
       "        vertical-align: middle;\n",
       "    }\n",
       "\n",
       "    .dataframe tbody tr th {\n",
       "        vertical-align: top;\n",
       "    }\n",
       "\n",
       "    .dataframe thead th {\n",
       "        text-align: right;\n",
       "    }\n",
       "</style>\n",
       "<table border=\"1\" class=\"dataframe\">\n",
       "  <thead>\n",
       "    <tr style=\"text-align: right;\">\n",
       "      <th></th>\n",
       "      <th>Q1</th>\n",
       "      <th>Q2</th>\n",
       "      <th>Q3</th>\n",
       "      <th>Q4</th>\n",
       "      <th>Q5</th>\n",
       "      <th>Q6</th>\n",
       "      <th>Q7</th>\n",
       "      <th>Q8</th>\n",
       "      <th>Q9</th>\n",
       "      <th>Q10</th>\n",
       "      <th>Q11</th>\n",
       "      <th>Q12</th>\n",
       "      <th>MD</th>\n",
       "    </tr>\n",
       "  </thead>\n",
       "  <tbody>\n",
       "    <tr>\n",
       "      <th>0</th>\n",
       "      <td>1</td>\n",
       "      <td>0</td>\n",
       "      <td>1</td>\n",
       "      <td>1</td>\n",
       "      <td>0</td>\n",
       "      <td>0</td>\n",
       "      <td>1</td>\n",
       "      <td>0</td>\n",
       "      <td>1</td>\n",
       "      <td>1</td>\n",
       "      <td>1</td>\n",
       "      <td>1</td>\n",
       "      <td>1</td>\n",
       "    </tr>\n",
       "    <tr>\n",
       "      <th>1</th>\n",
       "      <td>0</td>\n",
       "      <td>1</td>\n",
       "      <td>1</td>\n",
       "      <td>0</td>\n",
       "      <td>1</td>\n",
       "      <td>1</td>\n",
       "      <td>0</td>\n",
       "      <td>1</td>\n",
       "      <td>0</td>\n",
       "      <td>1</td>\n",
       "      <td>0</td>\n",
       "      <td>1</td>\n",
       "      <td>1</td>\n",
       "    </tr>\n",
       "    <tr>\n",
       "      <th>2</th>\n",
       "      <td>0</td>\n",
       "      <td>1</td>\n",
       "      <td>0</td>\n",
       "      <td>1</td>\n",
       "      <td>0</td>\n",
       "      <td>0</td>\n",
       "      <td>1</td>\n",
       "      <td>1</td>\n",
       "      <td>1</td>\n",
       "      <td>1</td>\n",
       "      <td>0</td>\n",
       "      <td>0</td>\n",
       "      <td>1</td>\n",
       "    </tr>\n",
       "    <tr>\n",
       "      <th>3</th>\n",
       "      <td>0</td>\n",
       "      <td>1</td>\n",
       "      <td>1</td>\n",
       "      <td>0</td>\n",
       "      <td>0</td>\n",
       "      <td>0</td>\n",
       "      <td>1</td>\n",
       "      <td>1</td>\n",
       "      <td>1</td>\n",
       "      <td>1</td>\n",
       "      <td>1</td>\n",
       "      <td>1</td>\n",
       "      <td>1</td>\n",
       "    </tr>\n",
       "    <tr>\n",
       "      <th>4</th>\n",
       "      <td>0</td>\n",
       "      <td>0</td>\n",
       "      <td>0</td>\n",
       "      <td>0</td>\n",
       "      <td>0</td>\n",
       "      <td>1</td>\n",
       "      <td>0</td>\n",
       "      <td>1</td>\n",
       "      <td>0</td>\n",
       "      <td>0</td>\n",
       "      <td>0</td>\n",
       "      <td>0</td>\n",
       "      <td>1</td>\n",
       "    </tr>\n",
       "  </tbody>\n",
       "</table>\n",
       "</div>"
      ],
      "text/plain": [
       "   Q1  Q2  Q3  Q4  Q5  Q6  Q7  Q8  Q9  Q10  Q11  Q12  MD\n",
       "0   1   0   1   1   0   0   1   0   1    1    1    1   1\n",
       "1   0   1   1   0   1   1   0   1   0    1    0    1   1\n",
       "2   0   1   0   1   0   0   1   1   1    1    0    0   1\n",
       "3   0   1   1   0   0   0   1   1   1    1    1    1   1\n",
       "4   0   0   0   0   0   1   0   1   0    0    0    0   1"
      ]
     },
     "execution_count": 1837,
     "metadata": {},
     "output_type": "execute_result"
    }
   ],
   "source": [
    "questionnaire = 'https://raw.githubusercontent.com/ElishOyer/DataAnalysisProject/main/new_divorce_test.csv'\n",
    "divorce_df = pd.read_csv(questionnaire)\n",
    "divorce_df.head()"
   ]
  },
  {
   "cell_type": "code",
   "execution_count": 1848,
   "id": "67949a7a-a82a-4d84-9f5a-0c36c5f2f350",
   "metadata": {},
   "outputs": [],
   "source": [
    "model = sk.tree.DecisionTreeClassifier(criterion=\"gini\")\n",
    "features = ['Q1','Q2','Q3','Q4','Q5','Q6','Q7','Q8','Q9','Q10','Q11','Q12']\n",
    "X = divorce_df[features]\n",
    "y = divorce_df['MD']"
   ]
  },
  {
   "cell_type": "code",
   "execution_count": 1849,
   "id": "cadb3f5a-9d96-44f1-9317-1646a6ca69e2",
   "metadata": {},
   "outputs": [],
   "source": [
    "X_train, X_test, y_train, y_test = sk.model_selection.train_test_split(X, y, test_size=0.3, random_state=1) "
   ]
  },
  {
   "cell_type": "code",
   "execution_count": 1853,
   "id": "70eb4a9a-16b9-4266-976a-eaa68e9c6766",
   "metadata": {},
   "outputs": [],
   "source": [
    "model.fit(X_train,y_train)\n",
    "prediction = model.predict(X_test)"
   ]
  },
  {
   "cell_type": "code",
   "execution_count": 1852,
   "id": "3e805b65-6c7a-4a4b-a454-8194e93c8e0a",
   "metadata": {},
   "outputs": [
    {
     "data": {
      "image/png": "[encoded data removed]",
      "text/plain": [
       "<Figure size 432x288 with 2 Axes>"
      ]
     },
     "metadata": {
      "needs_background": "light"
     },
     "output_type": "display_data"
    }
   ],
   "source": [
    "cm = confusion_matrix(y_test, prediction, labels=model.classes_, normalize='true')\n",
    "ax = sns.heatmap(cm, annot=True, fmt='.2%', cmap='Pastel1')\n",
    "ax.set_title('Our Divorce dataframe confusion Matrix with labels:\\n\\n');\n",
    "ax.set_xlabel('\\nPredicted Values')\n",
    "ax.set_ylabel('Actual Values ');\n",
    "\n",
    "## Display the visualization of the Confusion Matrix-\n",
    "plt.show()"
   ]
  },
  {
   "cell_type": "markdown",
   "id": "38d940ee-5438-4148-8925-e734faf701b0",
   "metadata": {},
   "source": [
    "#### ***It can be seen that the percentages of accuracy constitute proof of the possible existence of the results from our research.***"
   ]
  },
  {
   "cell_type": "markdown",
   "id": "3e7c7119-b3aa-4129-9149-3acac2c425af",
   "metadata": {},
   "source": [
    "## <font color='grey'>In conclusion:</font>\n",
    "### The data provided us with 3 main observations regarding Dr. Gottman's research along with the possible reasons for divorce:\n",
    "### 1. Gottman's causes of divorce can be seen in our Data.\n",
    "### 2. Gottman's findings do not fully prove themselves in our data and other reasons for divorce can be found.\n",
    "### 3. The possible reasons for divorce from our opinion are- \n",
    "### having a different outlook on life, unhealthy discourse and a lack of commitment to the relationship."
   ]
  },
  {
   "cell_type": "markdown",
   "id": "ee6bf931-d62b-47a1-aea2-c26bbc7dd242",
   "metadata": {},
   "source": [
    "## <font color='grey'>Thank you for listening!</font>"
   ]
  }
 ],
 "metadata": {
  "kernelspec": {
   "display_name": "Python 3 (ipykernel)",
   "language": "python",
   "name": "python3"
  },
  "language_info": {
   "codemirror_mode": {
    "name": "ipython",
    "version": 3
   },
   "file_extension": ".py",
   "mimetype": "text/x-python",
   "name": "python",
   "nbconvert_exporter": "python",
   "pygments_lexer": "ipython3",
   "version": "3.10.2"
  }
 },
 "nbformat": 4,
 "nbformat_minor": 5
}
